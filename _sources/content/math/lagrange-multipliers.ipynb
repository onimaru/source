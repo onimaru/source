{
 "cells": [
  {
   "cell_type": "markdown",
   "id": "4c186038-d579-4dd3-81e4-f16e036a566c",
   "metadata": {},
   "source": [
    "# Multiplicadores de Lagrange\n",
    "\n",
    "Em machine learning vemos constantemente funções de perda com restrições, normalmente em forma de uma regularização. Por exemplo, digamos que você esteja fazendo uma regressão linear de modo a minimizar a quantidade\n",
    "\n",
    "$$argmin_{\\mathbf{w}} \\frac{1}{N}\\sum_{i=1}^{N}\\vert y_{i} - \\mathbf{w}^{T}x_{i} \\vert^{2},$$\n",
    "\n",
    "onde $\\mathbf{w}$ é o seu vetor com os parâmetros do modelo. Isso poderia bastar para seu modelo, mas pode ser também que você entende que existe uma restrição para o vetor de parâmetros do seu modelo, digamos $\\mathbf{w}^{T}\\mathbf{w}=1$. Com isso você inclui uma restrição à otimização que deseja realizar. Restrições como essa aparecem em vários casos em machine learning, física, matemática, etc.\n",
    "Para resolver esse tipo de _Otimização restrita_, existe um famoso método que podemos usar chamado, Multiplicadores de Lagrange."
   ]
  },
  {
   "cell_type": "markdown",
   "id": "b3b0d9e3-0123-475b-8578-1c77e6c51f08",
   "metadata": {},
   "source": [
    "O problema envolve querer maximizar ou minimizar uma função de várias variáveis $f(\\mathbf{x})$, sujeita à restrição da forma $g(\\mathbf{x})=0$. Note que $\\mathbf{x} = (x_{1},x_{2}, ..., x_{n})$. Se $\\mathbf{x}$ for $D$-dimensional, a restrição corresponde a um subespaço $(D-1)$-dimensional. Se $\\mathbf{x}$ tiver 2 dimensões a restrição vai corresponder a uma curva no plano.\n",
    "\n",
    "Consideremos o caso de maximizar $f(\\mathbf{x})$. Ao calcular $\\nabla f(\\mathbf{x})$ obtemos o vetor que informa a direção que função $f(\\mathbf{x})$ mais cresce (se não houver nenhum tipo de restrição, o máximo da função pode ser infinito), podemos entender isso como uma força empurrando a função para seu valor máximo. Quando há uma restrição, outra força similar a essa aparece na direção oposta, $\\nabla g(\\mathbf{x})$. A otimização ocorre até um ponto que há um equilíbrio de forças, ou seja, \n",
    "\n",
    "$$\\nabla f(\\mathbf{x}) + \\lambda \\nabla g(\\mathbf{x}) = 0,$$\n",
    "\n",
    "onde $\\lambda$ é um fator de escala diferente de zero chamado de multiplicador de Lagrange. Se considerarmos que a soma de $f(\\mathbf{x})$ com sua restrição é a nova função que desejamos maximizar, podemos escrever a função de Lagrange:\n",
    "\n",
    "$$\\text{Maximizar: }\\mathcal{L}(\\mathbf{x},\\lambda) = f(\\mathbf{x}) + \\lambda g(\\mathbf{x})$$\n",
    "\n",
    "e agora queremos encontrar a solução de:\n",
    "\n",
    "$$\\nabla \\mathcal{L}(\\mathbf{x},\\lambda) = 0$$\n",
    "\n",
    "Ou seja, isso nos dará um sistema de equações cuja solução fornecerá o máximo da função $f(\\mathbf{x})$ quando sujeita a restrição $g(\\mathbf{x})$.\n",
    "\n",
    "Caso nosso objetivo seja minimizar $f(\\mathbf{x})$, apenas modificamos o sinal da restrição na função de Lagrange:\n",
    "\n",
    "$$\\text{Minimizar: }\\mathcal{L}(\\mathbf{x},\\lambda) = f(\\mathbf{x}) - \\lambda g(\\mathbf{x})$$\n",
    "\n",
    "As restrições podem aparecer no formato de desigualdades, não há problema nisso, precisamos apenas modificá-las, se necessário para atender os requisitos:\n",
    "\n",
    "- $g(\\mathbf{x}) \\ge 0$\n",
    "- $\\lambda \\ge 0$\n",
    "- $\\lambda g(\\mathbf{x}) = 0$\n",
    "\n",
    "Observe que podemos ter mais de uma restrição no problema, nesse caso cada restrição recebe um multiplicador de Lagrange diferente e todas são somadas na função de Lagrange.\n",
    "\n",
    "Vejamos alguns exemplos simples:"
   ]
  },
  {
   "cell_type": "markdown",
   "id": "86e84ffc-97af-4f2d-870d-3d17dac51c6f",
   "metadata": {},
   "source": [
    "<!-- <img src=\"../../images/mult_lagrange_ex_1.png\" style=\"float: left; margin-right: 3px; width: 1000px;\"> -->\n",
    "```{image} ../../images/mult_lagrange_ex_1.png\n",
    ":alt: mult_lagrange_ex_1\n",
    ":width: 800px\n",
    ":align: center\n",
    "```\n",
    "<!-- <img src=\"../../images/mult_lagrange_ex_2.png\" style=\"float: left; margin-right: 3px; width: 1000px;\"> -->\n",
    "```{image} ../../images/mult_lagrange_ex_2.png\n",
    ":alt: mult_lagrange_ex_2\n",
    ":width: 800px\n",
    ":align: center\n",
    "```\n",
    "\n",
    "<!-- <img src=\"../../images/mult_lagrange_ex_3.png\" style=\"float: left; margin-right: 3px; width: 1000px;\"> -->\n",
    "```{image} ../../images/mult_lagrange_ex_3.png\n",
    ":alt: mult_lagrange_ex_3\n",
    ":width: 800px\n",
    ":align: center\n",
    "```\n",
    "\n",
    "Podemos ainda mostrar com esse método que a distribuição normal é aquela de maximiza e entropia de Shanon:\n",
    "\n",
    "<!-- <img src=\"../../images/mult_lagrange_ex_4.png\" style=\"float: left; margin-right: 3px; width: 1000px;\"> -->\n",
    "```{image} ../../images/mult_lagrange_ex_4.png\n",
    ":alt: mult_lagrange_ex_4\n",
    ":width: 800px\n",
    ":align: center\n",
    "```"
   ]
  }
 ],
 "metadata": {
  "kernelspec": {
   "display_name": "Python 3 (ipykernel)",
   "language": "python",
   "name": "python3"
  },
  "language_info": {
   "codemirror_mode": {
    "name": "ipython",
    "version": 3
   },
   "file_extension": ".py",
   "mimetype": "text/x-python",
   "name": "python",
   "nbconvert_exporter": "python",
   "pygments_lexer": "ipython3",
   "version": "3.8.5"
  }
 },
 "nbformat": 4,
 "nbformat_minor": 5
}
