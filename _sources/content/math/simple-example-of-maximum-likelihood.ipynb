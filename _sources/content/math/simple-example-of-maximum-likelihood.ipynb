{
 "cells": [
  {
   "cell_type": "markdown",
   "id": "b22c93b1",
   "metadata": {},
   "source": [
    "# Maximum Likelihood Estimation\n",
    "\n",
    "This a procedure or a method to find the parameters which maximize the likelihood. Let $\\theta$ be a parameter of a distribution that generates $x$, $p(x | \\theta)$. This is the likelihood is the Bayes rule:\n",
    "\n",
    "$$p(\\theta | x) = \\frac{p(x | \\theta) p(\\theta)}{p(x)}$$\n",
    "\n",
    "So, we want to know what is the value os $\\theta$ which gives the maximum value of the likelihood for our observed data $x$. The likelihood function is:\n",
    "\n",
    "$$L(\\theta,X) = p(X | \\theta) = \\prod_{i=1}^{N} p(x_{i} | \\theta).$$\n",
    "\n",
    "The log-likelihood is:\n",
    "\n",
    "$$\\mathcal{L}(\\theta,X) = \\ln{L}(\\theta,X) = \\sum_{i=1}^{N} \\ln{p(x_{i} | \\theta)}$$\n",
    "\n",
    "and we want:\n",
    "\n",
    "$$\\theta_{ml} = argmax_{\\theta} L(\\theta,X).$$\n",
    "\n",
    "For known distributions it is possible to find closed forms for the estimator. When that is the case we can find the critical point setting\n",
    "\n",
    "$$\\frac{\\partial \\mathcal{L}(\\theta,X)}{\\partial \\theta} = 0$$\n",
    "\n",
    "and solve it for $\\theta$.\n",
    "\n",
    "Let us try an example.\n",
    "\n",
    "## Maximum Likelihood Estimation for Bernoulli distribution\n",
    "\n",
    "$Bernoulli(x | \\theta) = p(x | \\theta) = \\theta^{x}(1-\\theta)^{1-x}$ where $x \\in \\lbrace 0,1 \\rbrace$\n",
    "\n",
    "$$L(\\theta,X) = \\prod_{i=1}^{N}\\theta^{x_{i}}(1-\\theta)^{1-x_{i}}$$\n",
    "\n",
    "$$\\mathcal{L}(\\theta,X) = \\sum_{i=1}^{N}\\ln{\\theta^{x_{i}}} + \\sum_{i=1}^{N}(1-\\theta)^{1-x_{i}} = \\ln{\\theta}\\sum_{i=1}^{N}x_{i} + \\ln{(1-\\theta)}\\sum_{i=1}^{N}1-x_{i}$$\n",
    "\n",
    "$$\\frac{\\partial \\mathcal{L}(\\theta,X)}{\\partial \\theta} = \\frac{1}{\\theta}\\sum_{i=1}^{N}x_{i} - \\frac{1}{1-\\theta}\\sum_{i=1}^{N}(1-x_{i})=0$$\n",
    "\n",
    "Solving it we have\n",
    "\n",
    "$$\\theta_{ml} = \\frac{1}{N}\\sum_{i=1}^{N}x_{i}$$\n",
    "\n",
    "This is the maximum likelihood estimator of the Bernoulli distribution parameter $\\theta$."
   ]
  },
  {
   "cell_type": "markdown",
   "id": "97b73709",
   "metadata": {},
   "source": [
    "## Simple example of maximum likelihood by brute force"
   ]
  },
  {
   "cell_type": "code",
   "execution_count": 1,
   "id": "aec801ce-87f3-4a9d-bd89-d51f641749ce",
   "metadata": {},
   "outputs": [],
   "source": [
    "import numpy as np\n",
    "from scipy.stats import norm,crystalball\n",
    "import matplotlib.pyplot as plt"
   ]
  },
  {
   "cell_type": "code",
   "execution_count": 53,
   "id": "66d139b4-8166-4585-89f0-13e1e11fc8a0",
   "metadata": {},
   "outputs": [],
   "source": [
    "def _compute_loglikelihood(model,x):\n",
    "    return -np.mean(model.logpdf(x))\n",
    "\n",
    "def compute_loglikelihood(param_vector,x):\n",
    "    result = {}\n",
    "    for item in param_vector:\n",
    "        py = norm(loc=item,scale=0.4)\n",
    "        result[item] = _compute_loglikelihood(py,x)\n",
    "    return result\n",
    "\n",
    "def find_best_param(result,first=True):\n",
    "    flag = 0 if first==True else -1\n",
    "    x = sorted(result.items(), key=lambda item: item[1])[flag]\n",
    "    return {x[0]:x[1]}"
   ]
  },
  {
   "cell_type": "code",
   "execution_count": 54,
   "id": "b9c5aac6-b1dd-4204-9cc0-de0c4861a50e",
   "metadata": {},
   "outputs": [
    {
     "data": {
      "image/png": "[encoded data removed]",
      "text/plain": [
       "<Figure size 432x288 with 1 Axes>"
      ]
     },
     "metadata": {
      "needs_background": "light"
     },
     "output_type": "display_data"
    }
   ],
   "source": [
    "px = norm(loc=0,scale=0.5)\n",
    "x = px.rvs(size = 100)\n",
    "result = compute_loglikelihood([-1,-0.5,0.1,0.3,1.0],x)\n",
    "μ = find_best_param(result)\n",
    "py = norm(loc=list(μ.keys())[0],scale=0.4)\n",
    "plt.title(f\"Best param: {list(μ.keys())[0]}\")\n",
    "plt.hist(x,label=\"data\",alpha=0.7)\n",
    "plt.hist(py.rvs(100),label=\"model\",alpha=0.7)\n",
    "plt.show()"
   ]
  },
  {
   "cell_type": "code",
   "execution_count": 55,
   "id": "00420f2e-0042-4913-a551-a184e967069a",
   "metadata": {},
   "outputs": [
    {
     "data": {
      "image/png": "[encoded data removed]",
      "text/plain": [
       "<Figure size 432x288 with 1 Axes>"
      ]
     },
     "metadata": {
      "needs_background": "light"
     },
     "output_type": "display_data"
    }
   ],
   "source": [
    "px = crystalball(beta=1.5,m=2.5,loc=0,scale=0.5)\n",
    "x = px.rvs(size = 100)\n",
    "result = compute_loglikelihood([-1,-0.5,0.1,0.3,1.0],x)\n",
    "μ = find_best_param(result)\n",
    "py = norm(loc=list(μ.keys())[0],scale=0.4)\n",
    "plt.title(f\"Best param: {list(μ.keys())[0]}\")\n",
    "plt.hist(x,label=\"data\",alpha=0.7)\n",
    "plt.hist(py.rvs(100),label=\"model\",alpha=0.7)\n",
    "plt.show()"
   ]
  },
  {
   "cell_type": "markdown",
   "id": "d5c5a530-7c70-42ee-a0e8-4be2c6b08c4e",
   "metadata": {},
   "source": [
    "### Usando a regra de Bayes para descobrir um parâmetro"
   ]
  },
  {
   "cell_type": "code",
   "execution_count": 190,
   "id": "296020a9-bdc3-409f-9db7-92fc23d56e6e",
   "metadata": {},
   "outputs": [],
   "source": [
    "px = norm(loc=-0.2,scale=0.5)\n",
    "x = px.rvs(200)\n",
    "px_a =lambda a: norm(loc=a,scale=0.5)"
   ]
  },
  {
   "cell_type": "code",
   "execution_count": 194,
   "id": "455af3fc-67b3-480f-85d2-5a5dd3c24ce1",
   "metadata": {},
   "outputs": [
    {
     "name": "stdout",
     "output_type": "stream",
     "text": [
      "-0.17513695652847064 0.7979798362224068\n"
     ]
    }
   ],
   "source": [
    "a = 1.0\n",
    "pa = norm(loc=a,scale=0.5)\n",
    "score = 0\n",
    "for i in range(500):\n",
    "    a = pa.rvs(1000).mean()\n",
    "    pxa = px_a(a)\n",
    "    score_ = (pxa.pdf(x).mean()*pa.pdf(a))/px.pdf(x).mean()\n",
    "    if score_ > score:\n",
    "        pa = norm(loc=a,scale=0.5)\n",
    "        score = score_\n",
    "        \n",
    "print(a,score)"
   ]
  }
 ],
 "metadata": {
  "kernelspec": {
   "display_name": "Python 3 (ipykernel)",
   "language": "python",
   "name": "python3"
  },
  "language_info": {
   "codemirror_mode": {
    "name": "ipython",
    "version": 3
   },
   "file_extension": ".py",
   "mimetype": "text/x-python",
   "name": "python",
   "nbconvert_exporter": "python",
   "pygments_lexer": "ipython3",
   "version": "3.8.5"
  }
 },
 "nbformat": 4,
 "nbformat_minor": 5
}
