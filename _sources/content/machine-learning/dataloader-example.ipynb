{
 "cells": [
  {
   "cell_type": "markdown",
   "metadata": {},
   "source": [
    "(data-loader-example)=\n",
    "# Dataloader example"
   ]
  },
  {
   "cell_type": "code",
   "execution_count": 1,
   "metadata": {},
   "outputs": [],
   "source": [
    "import pandas as pd\n",
    "from torch.utils.data import Dataset, DataLoader\n",
    "import torch"
   ]
  },
  {
   "cell_type": "code",
   "execution_count": 2,
   "metadata": {},
   "outputs": [],
   "source": [
    "# cria um dataframe qualquer\n",
    "df = pd.DataFrame({\"id\":[0,1,2,3,4],\"text\":[\"samara foi ate a feira\",\n",
    "                                              \"junior nao saiu de casa\",\n",
    "                                              \"cinthia comprou fruta\",\n",
    "                                              \"leo correu atras do gato\",\n",
    "                                              \"igor quebrou o dedo\"]})"
   ]
  },
  {
   "cell_type": "code",
   "execution_count": 3,
   "metadata": {},
   "outputs": [],
   "source": [
    "df.to_csv(\"data/dataset.csv\",index=False)"
   ]
  },
  {
   "cell_type": "code",
   "execution_count": 4,
   "metadata": {},
   "outputs": [
    {
     "data": {
      "text/html": [
       "<div>\n",
       "<style scoped>\n",
       "    .dataframe tbody tr th:only-of-type {\n",
       "        vertical-align: middle;\n",
       "    }\n",
       "\n",
       "    .dataframe tbody tr th {\n",
       "        vertical-align: top;\n",
       "    }\n",
       "\n",
       "    .dataframe thead th {\n",
       "        text-align: right;\n",
       "    }\n",
       "</style>\n",
       "<table border=\"1\" class=\"dataframe\">\n",
       "  <thead>\n",
       "    <tr style=\"text-align: right;\">\n",
       "      <th></th>\n",
       "      <th>id</th>\n",
       "      <th>text</th>\n",
       "    </tr>\n",
       "  </thead>\n",
       "  <tbody>\n",
       "    <tr>\n",
       "      <th>0</th>\n",
       "      <td>0</td>\n",
       "      <td>samara foi ate a feira</td>\n",
       "    </tr>\n",
       "    <tr>\n",
       "      <th>1</th>\n",
       "      <td>1</td>\n",
       "      <td>junior nao saiu de casa</td>\n",
       "    </tr>\n",
       "    <tr>\n",
       "      <th>2</th>\n",
       "      <td>2</td>\n",
       "      <td>cinthia comprou fruta</td>\n",
       "    </tr>\n",
       "    <tr>\n",
       "      <th>3</th>\n",
       "      <td>3</td>\n",
       "      <td>leo correu atras do gato</td>\n",
       "    </tr>\n",
       "    <tr>\n",
       "      <th>4</th>\n",
       "      <td>4</td>\n",
       "      <td>igor quebrou o dedo</td>\n",
       "    </tr>\n",
       "  </tbody>\n",
       "</table>\n",
       "</div>"
      ],
      "text/plain": [
       "   id                      text\n",
       "0   0    samara foi ate a feira\n",
       "1   1   junior nao saiu de casa\n",
       "2   2     cinthia comprou fruta\n",
       "3   3  leo correu atras do gato\n",
       "4   4       igor quebrou o dedo"
      ]
     },
     "execution_count": 4,
     "metadata": {},
     "output_type": "execute_result"
    }
   ],
   "source": [
    "df"
   ]
  },
  {
   "cell_type": "code",
   "execution_count": 5,
   "metadata": {},
   "outputs": [],
   "source": [
    "# classe dataset\n",
    "\n",
    "class samaraDataset(Dataset):\n",
    "    \"\"\"Face Landmarks dataset.\"\"\"\n",
    "\n",
    "    def __init__(self, csv_file, root_dir, transform=None):\n",
    "        \"\"\"\n",
    "        Args:\n",
    "            csv_file (string): Path to the csv file with annotations.\n",
    "            root_dir (string): Directory with all the images.\n",
    "            transform (callable, optional): Optional transform to be applied\n",
    "                on a sample.\n",
    "        \"\"\"\n",
    "        self.data_frame = pd.read_csv(csv_file)\n",
    "        self.root_dir = root_dir\n",
    "        self.transform = transform\n",
    "\n",
    "    def __len__(self):\n",
    "        return len(self.data_frame)\n",
    "\n",
    "    def __getitem__(self, idx):\n",
    "        if torch.is_tensor(idx):\n",
    "            idx = idx.tolist()\n",
    "\n",
    "        text = self.data_frame[\"text\"].iloc[idx]\n",
    "        id_ = self.data_frame[\"id\"].iloc[idx]\n",
    "        sample = {\"id\":id_,'text': text}\n",
    "\n",
    "        if self.transform:\n",
    "            sample = self.transform(sample)\n",
    "\n",
    "        return sample"
   ]
  },
  {
   "cell_type": "code",
   "execution_count": 6,
   "metadata": {},
   "outputs": [],
   "source": [
    "# lê e instancia o dataset\n",
    "dataset = samaraDataset(csv_file='./data/dataset.csv',root_dir='./data/')\n",
    "# cria o dataloader\n",
    "dataloader = DataLoader(dataset, batch_size=2,\n",
    "                        shuffle=True, num_workers=4)"
   ]
  },
  {
   "cell_type": "code",
   "execution_count": 7,
   "metadata": {},
   "outputs": [],
   "source": [
    "# duas funções quaisquer pra simular o tokenizer e o cara que calcular os embeddings do bert\n",
    "def bert_tokenizer(text):\n",
    "    tokens = text.split(\" \")\n",
    "    return tokens\n",
    "\n",
    "def bert_calculator(text):\n",
    "    return [5*len(item) for item in text]"
   ]
  },
  {
   "cell_type": "code",
   "execution_count": 8,
   "metadata": {},
   "outputs": [],
   "source": [
    "# cria um dataframe vazio onde os dados serão salvos\n",
    "pd.DataFrame({\"id\":[],\"text\":[],\"tokens\":[],\"embeddings\":[]}).to_csv(\"data/transformed_data.csv\",index=False)"
   ]
  },
  {
   "cell_type": "code",
   "execution_count": 9,
   "metadata": {},
   "outputs": [],
   "source": [
    "# faz o cálculo por batch\n",
    "for i_batch, sample_batched in enumerate(dataloader):\n",
    "    idx,sample = sample_batched.items()\n",
    "    x = pd.DataFrame({\"id\":idx[1].numpy(),\"text\":sample[1]})\n",
    "    x[\"tokens\"] = x.apply(lambda x: bert_tokenizer(x[\"text\"]),axis=1)\n",
    "    x[\"embeddings\"] = x.apply(lambda x: bert_calculator(x[\"tokens\"]),axis=1)\n",
    "    x.to_csv(\"data/transformed_data.csv\",header=None,index=False,mode=\"a\")"
   ]
  },
  {
   "cell_type": "code",
   "execution_count": 10,
   "metadata": {},
   "outputs": [
    {
     "data": {
      "text/html": [
       "<div>\n",
       "<style scoped>\n",
       "    .dataframe tbody tr th:only-of-type {\n",
       "        vertical-align: middle;\n",
       "    }\n",
       "\n",
       "    .dataframe tbody tr th {\n",
       "        vertical-align: top;\n",
       "    }\n",
       "\n",
       "    .dataframe thead th {\n",
       "        text-align: right;\n",
       "    }\n",
       "</style>\n",
       "<table border=\"1\" class=\"dataframe\">\n",
       "  <thead>\n",
       "    <tr style=\"text-align: right;\">\n",
       "      <th></th>\n",
       "      <th>id</th>\n",
       "      <th>text</th>\n",
       "      <th>tokens</th>\n",
       "      <th>embeddings</th>\n",
       "    </tr>\n",
       "  </thead>\n",
       "  <tbody>\n",
       "    <tr>\n",
       "      <th>0</th>\n",
       "      <td>3</td>\n",
       "      <td>leo correu atras do gato</td>\n",
       "      <td>['leo', 'correu', 'atras', 'do', 'gato']</td>\n",
       "      <td>[15, 30, 25, 10, 20]</td>\n",
       "    </tr>\n",
       "    <tr>\n",
       "      <th>1</th>\n",
       "      <td>1</td>\n",
       "      <td>junior nao saiu de casa</td>\n",
       "      <td>['junior', 'nao', 'saiu', 'de', 'casa']</td>\n",
       "      <td>[30, 15, 20, 10, 20]</td>\n",
       "    </tr>\n",
       "    <tr>\n",
       "      <th>2</th>\n",
       "      <td>4</td>\n",
       "      <td>igor quebrou o dedo</td>\n",
       "      <td>['igor', 'quebrou', 'o', 'dedo']</td>\n",
       "      <td>[20, 35, 5, 20]</td>\n",
       "    </tr>\n",
       "    <tr>\n",
       "      <th>3</th>\n",
       "      <td>2</td>\n",
       "      <td>cinthia comprou fruta</td>\n",
       "      <td>['cinthia', 'comprou', 'fruta']</td>\n",
       "      <td>[35, 35, 25]</td>\n",
       "    </tr>\n",
       "    <tr>\n",
       "      <th>4</th>\n",
       "      <td>0</td>\n",
       "      <td>samara foi ate a feira</td>\n",
       "      <td>['samara', 'foi', 'ate', 'a', 'feira']</td>\n",
       "      <td>[30, 15, 15, 5, 25]</td>\n",
       "    </tr>\n",
       "  </tbody>\n",
       "</table>\n",
       "</div>"
      ],
      "text/plain": [
       "   id                      text                                    tokens  \\\n",
       "0   3  leo correu atras do gato  ['leo', 'correu', 'atras', 'do', 'gato']   \n",
       "1   1   junior nao saiu de casa   ['junior', 'nao', 'saiu', 'de', 'casa']   \n",
       "2   4       igor quebrou o dedo          ['igor', 'quebrou', 'o', 'dedo']   \n",
       "3   2     cinthia comprou fruta           ['cinthia', 'comprou', 'fruta']   \n",
       "4   0    samara foi ate a feira    ['samara', 'foi', 'ate', 'a', 'feira']   \n",
       "\n",
       "             embeddings  \n",
       "0  [15, 30, 25, 10, 20]  \n",
       "1  [30, 15, 20, 10, 20]  \n",
       "2       [20, 35, 5, 20]  \n",
       "3          [35, 35, 25]  \n",
       "4   [30, 15, 15, 5, 25]  "
      ]
     },
     "execution_count": 10,
     "metadata": {},
     "output_type": "execute_result"
    }
   ],
   "source": [
    "# vê como ficou o dataframe final\n",
    "pd.read_csv(\"data/transformed_data.csv\")"
   ]
  }
 ],
 "metadata": {
  "kernelspec": {
   "display_name": "Python 3",
   "language": "python",
   "name": "python3"
  },
  "language_info": {
   "codemirror_mode": {
    "name": "ipython",
    "version": 3
   },
   "file_extension": ".py",
   "mimetype": "text/x-python",
   "name": "python",
   "nbconvert_exporter": "python",
   "pygments_lexer": "ipython3",
   "version": "3.6.9"
  }
 },
 "nbformat": 4,
 "nbformat_minor": 4
}
