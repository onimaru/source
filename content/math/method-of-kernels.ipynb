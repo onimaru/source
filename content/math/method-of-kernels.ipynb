{
 "cells": [
  {
   "cell_type": "markdown",
   "id": "b039c2d3",
   "metadata": {},
   "source": [
    "(method-of-kernels)=\n",
    "# Method of kernels"
   ]
  },
  {
   "cell_type": "code",
   "execution_count": 66,
   "id": "ac1a7504-df4b-4272-9c56-197eaa84e9f4",
   "metadata": {},
   "outputs": [],
   "source": [
    "import numpy as np\n",
    "from scipy.spatial import distance\n",
    "from sklearn.datasets import make_regression\n",
    "from sklearn.metrics import mean_absolute_error,mean_squared_error"
   ]
  },
  {
   "cell_type": "code",
   "execution_count": 21,
   "id": "9096ea58-2cb7-4467-9e9e-fe9b6e989b47",
   "metadata": {},
   "outputs": [],
   "source": [
    "X,y = make_regression(n_samples=100,\n",
    "    n_features=2,\n",
    "    n_informative=2,\n",
    ")"
   ]
  },
  {
   "cell_type": "code",
   "execution_count": 42,
   "id": "26b06b21-5034-4f0c-b251-58fc0514a24c",
   "metadata": {},
   "outputs": [],
   "source": [
    "def kernel(x,z):\n",
    "    return x.T @ z\n",
    "\n",
    "def transform_X(X):\n",
    "    def phi(x):\n",
    "        return np.array([x[0]**2,np.sqrt(2)*x[0]*x[1],x[1]**2])\n",
    "    \n",
    "    n = X.shape[0]\n",
    "    D = np.zeros(shape=(n,3))\n",
    "    for i in range(n):\n",
    "        D[i] = phi(X[i])\n",
    "    return D\n",
    "\n",
    "def compute_inner_product_matrix(X):\n",
    "    n = X.shape[0]\n",
    "    Inner = np.zeros(shape=(n,n))\n",
    "    for i in range(n):\n",
    "        for j in range(n):\n",
    "            Inner[i,j] = np.dot(X[i,:],X[j,:])\n",
    "    return Inner\n",
    "\n",
    "def compute_k_vector(x):\n",
    "    k_vec = np.zeros(shape=(X.shape[0],1))\n",
    "    for i in range(X.shape[0]):\n",
    "        k_vec[i] = kernel(D[i],x)\n",
    "    return k_vec\n",
    "\n",
    "def compute_prediction(D,K,I,λ,y):\n",
    "    pred = np.zeros(shape=(X.shape[0],1))\n",
    "    for i in range(D.shape[0]):\n",
    "        k = compute_k_vector(D[i])\n",
    "        pred[i] = (k.T @ np.linalg.inv(K + λ*I)) @ y\n",
    "    return pred"
   ]
  },
  {
   "cell_type": "markdown",
   "id": "62d22e06-89c7-432a-a3a6-3d1f9fa15df6",
   "metadata": {},
   "source": [
    "$$y(x) = k(x)^{T}(K + \\lambda I_{N})^{-1}t$$"
   ]
  },
  {
   "cell_type": "code",
   "execution_count": 97,
   "id": "6708ac51-6211-4815-863a-368f2c05fbc9",
   "metadata": {},
   "outputs": [
    {
     "name": "stdout",
     "output_type": "stream",
     "text": [
      "8.296923456752514e-28 2.1564972030319042e-14\n",
      "27412.036219363403 135.89770144320772\n"
     ]
    }
   ],
   "source": [
    "from sklearn.linear_model import LinearRegression\n",
    "\n",
    "lr = LinearRegression()\n",
    "lr.fit(X,y)\n",
    "lr_pred = lr.predict(X)\n",
    "\n",
    "random_pred = np.random.uniform(y.min(),y.max(),size=X.shape[0])\n",
    "print(mean_squared_error(y,lr_pred),mean_absolute_error(y,lr_pred))\n",
    "print(mean_squared_error(y,random_pred),mean_absolute_error(y,random_pred))"
   ]
  },
  {
   "cell_type": "markdown",
   "id": "29d7114c-d665-4689-b142-2dce58fd6803",
   "metadata": {
    "tags": []
   },
   "source": [
    "### Kernel linear"
   ]
  },
  {
   "cell_type": "code",
   "execution_count": 100,
   "id": "db7abc4f-745c-4ebd-afc0-72a405752261",
   "metadata": {},
   "outputs": [
    {
     "name": "stdout",
     "output_type": "stream",
     "text": [
      "1.1661110964802706 0.8596882108136374\n",
      "27412.036219363403 135.89770144320772\n"
     ]
    }
   ],
   "source": [
    "def transform_X(X):\n",
    "    def phi(x):\n",
    "        return x\n",
    "    n = X.shape[0]\n",
    "    D = np.zeros(shape=(n,2))\n",
    "    for i in range(n):\n",
    "        D[i] = phi(X[i])\n",
    "    return D\n",
    "\n",
    "D = transform_X(X)\n",
    "K = compute_inner_product_matrix(D)\n",
    "I = np.eye(N=X.shape[0])\n",
    "λ = 1\n",
    "\n",
    "pred = compute_prediction(D,K,I,λ,y)\n",
    "\n",
    "print(mean_squared_error(y,pred),mean_absolute_error(y,pred))\n",
    "print(mean_squared_error(y,random_pred),mean_absolute_error(y,random_pred))"
   ]
  },
  {
   "cell_type": "markdown",
   "id": "2b9fc0cf-7666-405a-9ff6-f188e05ee3e9",
   "metadata": {},
   "source": [
    "### Kernel polinomial de grau 2"
   ]
  },
  {
   "cell_type": "code",
   "execution_count": 101,
   "id": "3e477a2e-92ef-4654-b915-cbe23bde132a",
   "metadata": {},
   "outputs": [
    {
     "name": "stdout",
     "output_type": "stream",
     "text": [
      "7481.93414419529 66.19456243858396\n",
      "27412.036219363403 135.89770144320772\n"
     ]
    }
   ],
   "source": [
    "def transform_X(X):\n",
    "    def phi(x):\n",
    "        return np.array([x[0]**2,np.sqrt(2)*x[0]*x[1],x[1]**2])\n",
    "    \n",
    "    n = X.shape[0]\n",
    "    D = np.zeros(shape=(n,3))\n",
    "    for i in range(n):\n",
    "        D[i] = phi(X[i])\n",
    "    return D\n",
    "\n",
    "D = transform_X(X)\n",
    "K = compute_inner_product_matrix(D)\n",
    "I = np.eye(N=X.shape[0])\n",
    "λ = 1\n",
    "\n",
    "pred = compute_prediction(D,K,I,λ,y)\n",
    "print(mean_squared_error(y,pred),mean_absolute_error(y,pred))\n",
    "print(mean_squared_error(y,random_pred),mean_absolute_error(y,random_pred))"
   ]
  },
  {
   "cell_type": "markdown",
   "id": "76cbd6d4-4521-44cf-be38-a630421d43d6",
   "metadata": {
    "tags": []
   },
   "source": [
    "### Kernel exponencial do kernel linear"
   ]
  },
  {
   "cell_type": "code",
   "execution_count": 103,
   "id": "f3a11f09-4794-4da1-89f3-048700850571",
   "metadata": {},
   "outputs": [
    {
     "name": "stdout",
     "output_type": "stream",
     "text": [
      "4307616.037771 351.46191685860873\n",
      "27412.036219363403 135.89770144320772\n"
     ]
    }
   ],
   "source": [
    "def transform_X(X):\n",
    "    def phi(x):\n",
    "        return x\n",
    "    n = X.shape[0]\n",
    "    D = np.zeros(shape=(n,2))\n",
    "    for i in range(n):\n",
    "        D[i] = phi(X[i])\n",
    "    return D\n",
    "\n",
    "def compute_k_vector(x):\n",
    "    k_vec = np.zeros(shape=(X.shape[0],1))\n",
    "    for i in range(X.shape[0]):\n",
    "        k_vec[i] = np.exp(kernel(D[i],x))\n",
    "    return k_vec\n",
    "\n",
    "D = transform_X(X)\n",
    "K = compute_inner_product_matrix(D)\n",
    "I = np.eye(N=X.shape[0])\n",
    "λ = 1\n",
    "\n",
    "pred = compute_prediction(D,K,I,λ,y)\n",
    "\n",
    "print(mean_squared_error(y,pred),mean_absolute_error(y,pred))\n",
    "print(mean_squared_error(y,random_pred),mean_absolute_error(y,random_pred))"
   ]
  },
  {
   "cell_type": "markdown",
   "id": "bd9fab59-d553-47cc-8de7-1408542aa813",
   "metadata": {
    "tags": []
   },
   "source": [
    "### Kernel customizado 1 - distância euclidiana"
   ]
  },
  {
   "cell_type": "code",
   "execution_count": 114,
   "id": "d3063c13-3ec3-4ab2-9a87-93543e6537f0",
   "metadata": {
    "tags": []
   },
   "outputs": [
    {
     "name": "stdout",
     "output_type": "stream",
     "text": [
      "18602.7080658687 112.41003282458912\n",
      "27412.036219363403 135.89770144320772\n"
     ]
    }
   ],
   "source": [
    "def transform_X(X):\n",
    "    def phi(x):\n",
    "        return x\n",
    "    n = X.shape[0]\n",
    "    D = np.zeros(shape=(n,2))\n",
    "    for i in range(n):\n",
    "        D[i] = phi(X[i])\n",
    "    return D\n",
    "\n",
    "def kernel(x,z):\n",
    "    return distance.euclidean(x,z)\n",
    "\n",
    "def compute_k_vector(x):\n",
    "    k_vec = np.zeros(shape=(X.shape[0],1))\n",
    "    for i in range(X.shape[0]):\n",
    "        k_vec[i] = kernel(D[i],x)\n",
    "    return k_vec\n",
    "\n",
    "D = transform_X(X)\n",
    "K = compute_inner_product_matrix(D)\n",
    "I = np.eye(N=X.shape[0])\n",
    "λ = 1\n",
    "\n",
    "pred = compute_prediction(D,K,I,λ,y)\n",
    "\n",
    "print(mean_squared_error(y,pred),mean_absolute_error(y,pred))\n",
    "print(mean_squared_error(y,random_pred),mean_absolute_error(y,random_pred))"
   ]
  },
  {
   "cell_type": "markdown",
   "id": "11a49146-b379-49e7-bbb8-76ef5998da11",
   "metadata": {
    "tags": []
   },
   "source": [
    "### Kernel gaussiano"
   ]
  },
  {
   "cell_type": "code",
   "execution_count": 137,
   "id": "d874af0a-f0bd-4931-acaa-71bd3ce6ecf8",
   "metadata": {
    "tags": []
   },
   "outputs": [
    {
     "name": "stdout",
     "output_type": "stream",
     "text": [
      "6709.227697241312 64.29307176293953\n",
      "27412.036219363403 135.89770144320772\n"
     ]
    }
   ],
   "source": [
    "def transform_X(X):\n",
    "    def phi(x):\n",
    "        return x\n",
    "    n = X.shape[0]\n",
    "    D = np.zeros(shape=(n,2))\n",
    "    for i in range(n):\n",
    "        D[i] = phi(X[i])\n",
    "    return D\n",
    "\n",
    "def kernel(x,z):\n",
    "    return np.exp(-(np.linalg.norm(x-z,2))/2*1.0**2)\n",
    "\n",
    "def compute_k_vector(x):\n",
    "    k_vec = np.zeros(shape=(X.shape[0],1))\n",
    "    for i in range(X.shape[0]):\n",
    "        k_vec[i] = kernel(D[i],x)\n",
    "    return k_vec\n",
    "\n",
    "D = transform_X(X)\n",
    "K = compute_inner_product_matrix(D)\n",
    "I = np.eye(N=X.shape[0])\n",
    "λ = 1\n",
    "\n",
    "pred = compute_prediction(D,K,I,λ,y)\n",
    "\n",
    "print(mean_squared_error(y,pred),mean_absolute_error(y,pred))\n",
    "print(mean_squared_error(y,random_pred),mean_absolute_error(y,random_pred))"
   ]
  }
 ],
 "metadata": {
  "kernelspec": {
   "display_name": "Python 3 (ipykernel)",
   "language": "python",
   "name": "python3"
  },
  "language_info": {
   "codemirror_mode": {
    "name": "ipython",
    "version": 3
   },
   "file_extension": ".py",
   "mimetype": "text/x-python",
   "name": "python",
   "nbconvert_exporter": "python",
   "pygments_lexer": "ipython3",
   "version": "3.8.5"
  }
 },
 "nbformat": 4,
 "nbformat_minor": 5
}
