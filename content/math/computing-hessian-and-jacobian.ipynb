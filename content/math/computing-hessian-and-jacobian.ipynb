{
 "cells": [
  {
   "cell_type": "markdown",
   "id": "7941a154-145c-4cdb-87ff-b0b7714d1cb4",
   "metadata": {},
   "source": [
    "# Computing Hessian and Jacobian"
   ]
  },
  {
   "cell_type": "code",
   "execution_count": 1,
   "id": "98faa61c-4d51-4ae6-8788-c16f2f738384",
   "metadata": {},
   "outputs": [],
   "source": [
    "import torch\n",
    "from torch.autograd.functional import hessian, jacobian\n",
    "import matplotlib.pyplot as plt\n",
    "import numpy as np"
   ]
  },
  {
   "cell_type": "code",
   "execution_count": 22,
   "id": "5534cb8a-20b3-450e-bf0e-aeafedc0c312",
   "metadata": {},
   "outputs": [],
   "source": [
    "x = torch.tensor([2.0],dtype=torch.double)\n",
    "f = lambda x,a,b: (a**2)*x**2 + b*x\n",
    "\n",
    "def compute_loss(a,b):\n",
    "    loss = torch.nn.MSELoss()\n",
    "    return loss(f(x,a,b),f(x,1,1))"
   ]
  },
  {
   "cell_type": "code",
   "execution_count": 49,
   "id": "0d21a5cc-196c-41f1-b3e3-0d155a4931c0",
   "metadata": {},
   "outputs": [
    {
     "name": "stderr",
     "output_type": "stream",
     "text": [
      "/home/ninja/anaconda3/lib/python3.8/site-packages/torch/nn/modules/loss.py:528: UserWarning: Using a target size (torch.Size([1])) that is different to the input size (torch.Size([50])). This will likely lead to incorrect results due to broadcasting. Please ensure they have the same size.\n",
      "  return F.mse_loss(input, target, reduction=self.reduction)\n"
     ]
    }
   ],
   "source": [
    "a,b = torch.tensor(np.linspace(-1,2,50)),torch.tensor(np.linspace(-1,2,50))\n",
    "J = jacobian(compute_loss, (a,b))"
   ]
  },
  {
   "cell_type": "code",
   "execution_count": 41,
   "id": "4fbab1bf-20e0-4e37-bc6e-26246d288647",
   "metadata": {
    "tags": []
   },
   "outputs": [
    {
     "data": {
      "image/png": "[encoded data removed]",
      "text/plain": [
       "<Figure size 576x216 with 2 Axes>"
      ]
     },
     "metadata": {
      "needs_background": "light"
     },
     "output_type": "display_data"
    }
   ],
   "source": [
    "plt.figure(figsize=(8,3))\n",
    "plt.subplot(121)\n",
    "plt.plot(a.numpy(),J[0].numpy())\n",
    "plt.xlabel(\"a\")\n",
    "plt.ylabel(r\"$\\nabla_{a} L(a,b)$\")\n",
    "plt.subplot(122)\n",
    "plt.plot(b.numpy(),J[1].numpy())\n",
    "plt.xlabel(\"b\")\n",
    "plt.ylabel(r\"$\\nabla_{b} L(a,b)$\")\n",
    "plt.tight_layout()\n",
    "plt.show()"
   ]
  },
  {
   "cell_type": "markdown",
   "id": "633aedaf-65c4-4276-89fb-f54b17387ccb",
   "metadata": {},
   "source": [
    "$$\\mathcal{L}(w) \\approx \\mathcal{L}(w^{(0)}) + \\left(w - w^{(0)} \\right)^{\\top} \\nabla \\mathcal{L}\\vert_{w=w^{(0)}} + \\frac{1}{2}\\left(w - w^{(0)} \\right)^{\\top} H \\left[\\mathcal{L}\\right] \\vert_{w=w^{(0)}} \\left(w - w^{(0)} \\right)$$"
   ]
  },
  {
   "cell_type": "code",
   "execution_count": 50,
   "id": "0292295b-8451-4138-aae6-be25c00ce18c",
   "metadata": {},
   "outputs": [],
   "source": [
    "a,b = torch.tensor([1.0]),torch.tensor([2.0])\n",
    "H = hessian(compute_loss, (a,b))"
   ]
  },
  {
   "cell_type": "markdown",
   "id": "02b88537-0f4c-4033-86bc-01ede0bb17ba",
   "metadata": {},
   "source": [
    "Temos $w^{(0)} = [a_{0},b_{0}] = [1,1]$ e $w = [a,b] = [1,2]$. A derivada direcional de segunda ordem é dada por $\\left(w - w^{(0)} \\right)^{\\top} H \\left[\\mathcal{L}\\right] \\vert_{w=w^{(0)}} \\left(w - w^{(0)} \\right)$"
   ]
  },
  {
   "cell_type": "code",
   "execution_count": 73,
   "id": "47ec0a73-e616-400d-9b7a-b8ea75186269",
   "metadata": {},
   "outputs": [],
   "source": [
    "H_ = np.array([[H[0][0].numpy(),H[0][1].numpy()],[H[1][0].numpy(),H[1][1].numpy()]]).reshape(2,2)\n",
    "v = np.array([[0],[1]]) # (w - w0)"
   ]
  },
  {
   "cell_type": "code",
   "execution_count": 75,
   "id": "6f10f91d-745d-4c5f-ad4c-19138f60ea6e",
   "metadata": {},
   "outputs": [
    {
     "data": {
      "text/plain": [
       "array([[160.,  32.],\n",
       "       [ 32.,   8.]], dtype=float32)"
      ]
     },
     "execution_count": 75,
     "metadata": {},
     "output_type": "execute_result"
    }
   ],
   "source": [
    "H_"
   ]
  },
  {
   "cell_type": "code",
   "execution_count": 74,
   "id": "09d753bb-296c-4ad2-9f13-198380f3acb3",
   "metadata": {},
   "outputs": [
    {
     "data": {
      "text/plain": [
       "array([[8.]])"
      ]
     },
     "execution_count": 74,
     "metadata": {},
     "output_type": "execute_result"
    }
   ],
   "source": [
    "v.T @ H_ @ v"
   ]
  },
  {
   "cell_type": "markdown",
   "id": "3e796453-74e3-4bcf-80a3-ed643b97f3ec",
   "metadata": {},
   "source": [
    "Esse valor pode então ser usado para calcular uma aproximação de segunda ordem do erro."
   ]
  }
 ],
 "metadata": {
  "kernelspec": {
   "display_name": "Python 3 (ipykernel)",
   "language": "python",
   "name": "python3"
  },
  "language_info": {
   "codemirror_mode": {
    "name": "ipython",
    "version": 3
   },
   "file_extension": ".py",
   "mimetype": "text/x-python",
   "name": "python",
   "nbconvert_exporter": "python",
   "pygments_lexer": "ipython3",
   "version": "3.8.5"
  }
 },
 "nbformat": 4,
 "nbformat_minor": 5
}
