{
 "cells": [
  {
   "cell_type": "markdown",
   "metadata": {},
   "source": [
    "(integer-programming)=\n",
    "# Integer Programming\n",
    "\n",
    "This is an example of solving a integer resource allocation problem with `pulp` library."
   ]
  },
  {
   "cell_type": "code",
   "execution_count": null,
   "metadata": {},
   "outputs": [],
   "source": [
    "import pulp\n",
    "from pulp import LpProblem, LpVariable, lpSum, LpMaximize, LpStatus, value\n",
    "import pandas as pd\n",
    "import numpy as np\n",
    "import IPython\n",
    "from IPython.display import display\n",
    "\n",
    "print(pulp.__version__)\n",
    "print(pd.__version__)\n",
    "print(IPython.__version__)"
   ]
  },
  {
   "cell_type": "code",
   "execution_count": null,
   "metadata": {},
   "outputs": [],
   "source": [
    "# dicionario para cada plantonista\n",
    "plantonista = {\n",
    "    'andre'   : {\"s1\" : 0, \"s2\" : 2, \"s3\" : 3, \"s4\" : 5, \"s5\" : 4},\n",
    "    'kiyota'  : {\"s1\" : 3, \"s2\" : 1, \"s3\" : 0, \"s4\" : 4, \"s5\" : 2},\n",
    "    'fabio'   : {\"s1\" : 3, \"s2\" : 2, \"s3\" : 1, \"s4\" : 4, \"s5\" : 5},\n",
    "    'natalia' : {\"s1\" : 0, \"s2\" : 2, \"s3\" : 0, \"s4\" : 4, \"s5\" : 5},\n",
    "    'junior'  : {\"s1\" : 4, \"s2\" : 1, \"s3\" : 2, \"s4\" : 5, \"s5\" : 3},\n",
    "    'manu'    : {\"s1\" : 5, \"s2\" : 3, \"s3\" : 1, \"s4\" : 4, \"s5\" : 2},\n",
    "    \"sarda\"   : {\"s1\" : 4, \"s2\" : 2, \"s3\" : 5, \"s4\" : 1, \"s5\" : 3},\n",
    "    \"corbalan\": {\"s1\" : 1, \"s2\" : 3, \"s3\" : 0, \"s4\" : 5, \"s5\" : 4},\n",
    "    \"leo\"     : {\"s1\" : 1, \"s2\" : 2, \"s3\" : 4, \"s4\" : 3, \"s5\" : 5},\n",
    "    \"nefs\"    : {\"s1\" : 2, \"s2\" : 4, \"s3\" : 1, \"s4\" : 5, \"s5\" : 0},\n",
    "    \"victor\"  : {\"s1\" : 1, \"s2\" : 2, \"s3\" : 3, \"s4\" : 4, \"s5\" : 5},\n",
    "    \"denis\"   : {\"s1\" : 5, \"s2\" : 0, \"s3\" : 2, \"s4\" : 1, \"s5\" : 4},\n",
    "    \"juliane\" : {\"s1\" : 0, \"s2\" : 3, \"s3\" : 1, \"s4\" : 5, \"s5\" : 4},\n",
    "    \"izumi\"   : {\"s1\" : 0, \"s2\" : 4, \"s3\" : 2, \"s4\" : 5, \"s5\" : 1},\n",
    "    }\n",
    "\n",
    "# lista de semanas\n",
    "semana = list(list(plantonista.items())[0][1].keys())\n",
    "\n",
    "# lista de plantonistas\n",
    "plantonistas = list(plantonista.keys())\n",
    "\n",
    "# cria a variável prob\n",
    "prob = LpProblem(\"Calendario-plantonistas\", LpMaximize)\n",
    "\n",
    "week_vars = [LpVariable.dicts(f\"{plant}\",\n",
    "                              semana,lowBound=0,\n",
    "                              upBound=1,cat='Integer') for plant in plantonista]"
   ]
  },
  {
   "cell_type": "code",
   "execution_count": null,
   "metadata": {
    "tags": []
   },
   "outputs": [],
   "source": [
    "# função objetivo\n",
    "prob +=lpSum([[plantonista[i][j]*week_vars[l][j] for l,i in enumerate(plantonistas)] for j in semana]), \"Satisfação total dos plantonistas\"\n",
    "\n",
    "# restrição para nenhum plantonista ficar mais de duas vezes no periodo\n",
    "for i in range(len(plantonistas)):\n",
    "    prob += lpSum([week_vars[i][j] for j in semana]) <= 2, f\"max_per_plantonista {plantonistas[i]}\"\n",
    "\n",
    "# restrição para nenhum plantonista ficar por semanas seguidas\n",
    "for i in range(len(plantonistas)):\n",
    "    for s in range(len(semana)): \n",
    "        if s+1 == len(semana):\n",
    "            break\n",
    "        else:\n",
    "            prob += lpSum([week_vars[i][semana[s]]+week_vars[i][semana[s+1]]]) <= 1, f\"non_sequence_week_plantonista {plantonistas[i]}_seq{s+1}\"\n",
    "\n",
    "# restrição para que não haja dois  plantonistas por semana\n",
    "for j in semana:\n",
    "    prob += lpSum([week_vars[i][j] for i in range(len(plantonistas))]) <=2, f\"max_plantonistas_week_{j}\"\n",
    "\n",
    "# restrição para que tenha pelo menos um plantonista em todas as semanas\n",
    "for j in semana:\n",
    "    prob += lpSum([week_vars[i][j] for i in range(len(plantonistas))]) >=1, f\"min_plantonistas_week_{j}\""
   ]
  },
  {
   "cell_type": "markdown",
   "metadata": {},
   "source": [
    "### Lista de restrições"
   ]
  },
  {
   "cell_type": "code",
   "execution_count": null,
   "metadata": {},
   "outputs": [],
   "source": [
    "for items in prob.constraints.items():\n",
    "    print(f\"{items[0] :<38}: {items[1]}\")"
   ]
  },
  {
   "cell_type": "markdown",
   "metadata": {},
   "source": [
    "### Solução e resultados"
   ]
  },
  {
   "cell_type": "code",
   "execution_count": null,
   "metadata": {
    "tags": []
   },
   "outputs": [],
   "source": [
    "# chama o solver\n",
    "prob.solve()\n",
    "\n",
    "# cria um arquivo csv com o calendario final\n",
    "X_vars = {k:[] for k in plantonistas}\n",
    "semanas = [f\"Semana_{i}\" for i in range(len(semana))]\n",
    "\n",
    "for v in prob.variables():\n",
    "    X_vars[v.name.split(\"_\")[0]] +=[v.varValue]\n",
    "\n",
    "result_df = pd.DataFrame(X_vars,index=semanas).transpose().astype(int)\n",
    "result_df['Total_do_plantonista'] = result_df.sum(axis=1)"
   ]
  },
  {
   "cell_type": "markdown",
   "metadata": {},
   "source": [
    "### logs"
   ]
  },
  {
   "cell_type": "code",
   "execution_count": null,
   "metadata": {},
   "outputs": [],
   "source": [
    "print(\"Status:\", LpStatus[prob.status])\n",
    "print(\"Satisfação da galera = \", value(prob.objective),\"\\n\")\n",
    "print(\"Número de plantonistas em cada semana:\")\n",
    "display(result_df.sum(axis=0))"
   ]
  },
  {
   "cell_type": "code",
   "execution_count": null,
   "metadata": {
    "tags": []
   },
   "outputs": [],
   "source": [
    "print(\"Disponibilidade inicial dos plantonistas:\")\n",
    "disponibilidades = pd.DataFrame(plantonista).T\n",
    "disponibilidades.columns = semanas\n",
    "disponibilidades.head(14)"
   ]
  },
  {
   "cell_type": "code",
   "execution_count": null,
   "metadata": {},
   "outputs": [],
   "source": [
    "X = pd.DataFrame(X_vars,index=semanas).transpose().astype(int)"
   ]
  },
  {
   "cell_type": "code",
   "execution_count": null,
   "metadata": {},
   "outputs": [],
   "source": [
    "for s in X.columns:\n",
    "    print(f\"Selecionados na {s}: {' e '.join(X[X[s]!=0].index.tolist())}\")"
   ]
  },
  {
   "cell_type": "code",
   "execution_count": null,
   "metadata": {},
   "outputs": [],
   "source": [
    "print(f\"Plantonistas não selecionados: {', '.join(result_df[result_df['Total_do_plantonista']==0].index.tolist())}\")\n",
    "print(f\"Plantonistas selecionados 1x : {', '.join(result_df[result_df['Total_do_plantonista']==1].index.tolist())}\")\n",
    "print(f\"Plantonistas selecionados 2x : {', '.join(result_df[result_df['Total_do_plantonista']==2].index.tolist())}\")"
   ]
  },
  {
   "cell_type": "code",
   "execution_count": null,
   "metadata": {},
   "outputs": [],
   "source": [
    "disponibilidades.loc[[\"andre\",\"izumi\"]]"
   ]
  },
  {
   "cell_type": "code",
   "execution_count": null,
   "metadata": {},
   "outputs": [],
   "source": [
    "result_df.loc[[\"andre\",\"izumi\"]]"
   ]
  },
  {
   "cell_type": "code",
   "execution_count": null,
   "metadata": {},
   "outputs": [],
   "source": [
    "print(\"Semanas mais desejadas\")\n",
    "display(disponibilidades.sum(axis=0).sort_values(ascending=False))"
   ]
  },
  {
   "cell_type": "code",
   "execution_count": null,
   "metadata": {
    "tags": []
   },
   "outputs": [],
   "source": [
    "result_df_ = result_df.drop(result_df.columns[-1],axis=1)\n",
    "result_df_.replace(1,\"SELECIONADO\",inplace=True)\n",
    "print(\"Calendário final:\")\n",
    "display(result_df_.head(14))"
   ]
  }
 ],
 "metadata": {
  "kernelspec": {
   "display_name": "Python 3 (ipykernel)",
   "language": "python",
   "name": "python3"
  },
  "language_info": {
   "codemirror_mode": {
    "name": "ipython",
    "version": 3
   },
   "file_extension": ".py",
   "mimetype": "text/x-python",
   "name": "python",
   "nbconvert_exporter": "python",
   "pygments_lexer": "ipython3",
   "version": "3.8.5"
  }
 },
 "nbformat": 4,
 "nbformat_minor": 4
}
